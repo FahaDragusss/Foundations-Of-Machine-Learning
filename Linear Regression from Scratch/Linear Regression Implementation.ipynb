{
 "cells": [
  {
   "cell_type": "code",
   "execution_count": 98,
   "id": "7f30f467",
   "metadata": {},
   "outputs": [],
   "source": [
    "import numpy as np\n",
    "import pandas as pd\n",
    "\n",
    "batterydf = pd.read_csv(\"Battery_dataset.csv\")\n",
    "#df.head(5)"
   ]
  },
  {
   "cell_type": "code",
   "execution_count": 99,
   "id": "00c57f01",
   "metadata": {},
   "outputs": [],
   "source": [
    "df = batterydf.copy()\n",
    "df = df.drop(columns=['battery_id'])\n",
    "#df"
   ]
  },
  {
   "cell_type": "code",
   "execution_count": 100,
   "id": "411c0436",
   "metadata": {},
   "outputs": [],
   "source": [
    "df = df.dropna()"
   ]
  },
  {
   "cell_type": "code",
   "execution_count": 101,
   "id": "6b418a47",
   "metadata": {},
   "outputs": [],
   "source": [
    "X = df[['cycle', 'disI', 'disV', 'disT']]  # Low-cost sensor simulation\n",
    "y = df['SOH']  # You could also use df['RUL'] for comparison\n",
    "#X\n",
    "#y\n",
    "\n",
    "num_of_theta = 5 "
   ]
  },
  {
   "cell_type": "code",
   "execution_count": 102,
   "id": "51ca4c8a",
   "metadata": {},
   "outputs": [],
   "source": [
    "#Functions\n",
    "\n",
    "def cost_function(y_pred, y_test_or_train):\n",
    "    m = len(y_pred)\n",
    "    sum = 0\n",
    "    y = y_test_or_train.to_numpy()\n",
    "    for i in range(m):\n",
    "        sum += ( y_pred[i] - y[i] )**2\n",
    "    return ( 1 / (2 * m) ) * sum\n",
    "\n",
    "def mean_absolute_error(y_pred , y_test_or_train):\n",
    "    m = len(y_pred)\n",
    "    sum = 0\n",
    "    y = y_test_or_train.values\n",
    "    for i in range(m):\n",
    "        sum += np.abs( y_pred[i] - y[i] )\n",
    "    return (1/m) * sum\n",
    "\n",
    "def mean_squared_error(y_pred, y_test_or_train):\n",
    "    m = len(y_pred)\n",
    "    sum = 0\n",
    "    y = y_test_or_train.values\n",
    "    for i in range(m):\n",
    "        sum += ( y_pred[i] - y[i] )**2\n",
    "    return ( 1 / m ) * sum\n",
    "\n",
    "def r2_score(y_pred , y_test_or_train):\n",
    "    numerator = 0\n",
    "    denominator = 0\n",
    "    sum = 0\n",
    "    m = len(y_pred)\n",
    "    y = y_test_or_train.values\n",
    "\n",
    "    for i in range(m):\n",
    "        sum += y[i]\n",
    "        numerator += (y_pred[i] - y[i])**2\n",
    "    mean = sum/m\n",
    "\n",
    "    for i in range(m):\n",
    "        denominator += (y[i] - mean)**2\n",
    "    \n",
    "    return 1 - (numerator/denominator)\n",
    "\n",
    "def root_mean_squared_error(mse):\n",
    "    return mse**0.5\n",
    "\n",
    "def batch_gradient_descent(theta , X_train , y_train , lr):\n",
    "    \n",
    "    if isinstance(X_train, pd.DataFrame) or isinstance(X_train, pd.Series):\n",
    "        X_train = X_train.to_numpy()\n",
    "    \n",
    "    if isinstance(y_train, pd.Series):\n",
    "        y_train = y_train.to_numpy()\n",
    "\n",
    "    y_pred = np.dot(X_train , theta)  \n",
    "\n",
    "    for j in range(len(theta)):\n",
    "        sum = 0\n",
    "\n",
    "        for i in range(len(X_train)):\n",
    "            sum += (y_train[i] - y_pred[i]) * X_train[i, j]\n",
    "            \n",
    "        theta[j] = theta[j] - (lr*sum) / len(y_train)\n",
    "\n",
    "    return theta\n",
    "\n",
    "def predict(X , theta):\n",
    "    return np.dot(X , theta)\n",
    "\n",
    "def add_bias_column(X):\n",
    "    ones_column = np.ones((X.shape[0], 1))  \n",
    "    return np.hstack([ones_column, X])\n"
   ]
  },
  {
   "cell_type": "code",
   "execution_count": 103,
   "id": "08cc1110",
   "metadata": {},
   "outputs": [],
   "source": [
    "from sklearn.preprocessing import StandardScaler\n",
    "from sklearn.model_selection import train_test_split\n",
    "\n",
    "scaler = StandardScaler()\n",
    "X_scaled = scaler.fit_transform(X)\n",
    "\n",
    "X_train, X_test, y_train, y_test = train_test_split(X_scaled, y, test_size=0.2, random_state=21)\n",
    "\n",
    "theta = np.random.randn(num_of_theta, 1) * 0.01\n",
    "\n",
    "X_train = add_bias_column(X_train)"
   ]
  },
  {
   "cell_type": "code",
   "execution_count": null,
   "id": "25a7c409",
   "metadata": {},
   "outputs": [],
   "source": [
    "# THE LINEAR REGRESSION\n",
    "\n",
    "learning_rate = 0.1\n",
    "tolerance = 1e-6\n",
    "iteration = 0\n",
    "previous_cost = float('inf')\n",
    "cost_history = []\n",
    "theta_history = []"
   ]
  },
  {
   "cell_type": "code",
   "execution_count": 105,
   "id": "5d4f9863",
   "metadata": {},
   "outputs": [],
   "source": [
    "#theta\n",
    "#X_train"
   ]
  },
  {
   "cell_type": "code",
   "execution_count": 106,
   "id": "eb6dfa5f",
   "metadata": {},
   "outputs": [
    {
     "name": "stderr",
     "output_type": "stream",
     "text": [
      "C:\\Users\\fahad\\AppData\\Local\\Temp\\ipykernel_12272\\1143905849.py:8: RuntimeWarning: overflow encountered in add\n",
      "  sum += ( y_pred[i] - y[i] )**2\n",
      "C:\\Users\\fahad\\AppData\\Local\\Temp\\ipykernel_12272\\3700101671.py:6: RuntimeWarning: invalid value encountered in subtract\n",
      "  if abs(previous_cost - cost) < tolerance:\n",
      "C:\\Users\\fahad\\AppData\\Local\\Temp\\ipykernel_12272\\1143905849.py:8: RuntimeWarning: overflow encountered in square\n",
      "  sum += ( y_pred[i] - y[i] )**2\n"
     ]
    },
    {
     "ename": "KeyboardInterrupt",
     "evalue": "",
     "output_type": "error",
     "traceback": [
      "\u001b[1;31m---------------------------------------------------------------------------\u001b[0m",
      "\u001b[1;31mKeyboardInterrupt\u001b[0m                         Traceback (most recent call last)",
      "Cell \u001b[1;32mIn[106], line 9\u001b[0m\n\u001b[0;32m      6\u001b[0m     \u001b[38;5;28;01mif\u001b[39;00m \u001b[38;5;28mabs\u001b[39m(previous_cost \u001b[38;5;241m-\u001b[39m cost) \u001b[38;5;241m<\u001b[39m tolerance:\n\u001b[0;32m      7\u001b[0m         \u001b[38;5;28;01mbreak\u001b[39;00m\n\u001b[1;32m----> 9\u001b[0m theta \u001b[38;5;241m=\u001b[39m batch_gradient_descent(theta, X_train, y_train, learning_rate)\n\u001b[0;32m     10\u001b[0m previous_cost \u001b[38;5;241m=\u001b[39m cost\n\u001b[0;32m     11\u001b[0m iteration \u001b[38;5;241m+\u001b[39m\u001b[38;5;241m=\u001b[39m \u001b[38;5;241m1\u001b[39m\n",
      "Cell \u001b[1;32mIn[102], line 55\u001b[0m, in \u001b[0;36mbatch_gradient_descent\u001b[1;34m(theta, X_train, y_train, lr)\u001b[0m\n\u001b[0;32m     52\u001b[0m \u001b[38;5;28;01mif\u001b[39;00m \u001b[38;5;28misinstance\u001b[39m(y_train, pd\u001b[38;5;241m.\u001b[39mSeries):\n\u001b[0;32m     53\u001b[0m     y_train \u001b[38;5;241m=\u001b[39m y_train\u001b[38;5;241m.\u001b[39mto_numpy()\n\u001b[1;32m---> 55\u001b[0m y_pred \u001b[38;5;241m=\u001b[39m np\u001b[38;5;241m.\u001b[39mdot(X_train , theta)  \n\u001b[0;32m     57\u001b[0m \u001b[38;5;28;01mfor\u001b[39;00m j \u001b[38;5;129;01min\u001b[39;00m \u001b[38;5;28mrange\u001b[39m(\u001b[38;5;28mlen\u001b[39m(theta)):\n\u001b[0;32m     58\u001b[0m     \u001b[38;5;28msum\u001b[39m \u001b[38;5;241m=\u001b[39m \u001b[38;5;241m0\u001b[39m\n",
      "File \u001b[1;32m<__array_function__ internals>:200\u001b[0m, in \u001b[0;36mdot\u001b[1;34m(*args, **kwargs)\u001b[0m\n",
      "\u001b[1;31mKeyboardInterrupt\u001b[0m: "
     ]
    }
   ],
   "source": [
    "while True:\n",
    "    y_pred = predict(X_train,theta)\n",
    "    cost = cost_function(y_pred, y_train)\n",
    "\n",
    "    if iteration != 0:\n",
    "        if abs(previous_cost - cost) < tolerance:\n",
    "            break\n",
    "    \n",
    "    theta = batch_gradient_descent(theta, X_train, y_train, learning_rate)\n",
    "    previous_cost = cost\n",
    "    iteration += 1\n",
    "\n",
    "    if iteration % 100 == 0:\n",
    "        cost_history.append(cost)\n",
    "        theta_history.append(theta)\n",
    "\n",
    "print(\"Final Parameters :\", theta)\n",
    "print(\"Final Cost :\", cost)\n",
    "#print(\"Cost function decrease over time : \", cost_history)\n",
    "print(f\"Converged in {iteration} iterations!\")\n",
    "#print(f\"How the parameters adjust themselves : \", theta_history)\n"
   ]
  }
 ],
 "metadata": {
  "kernelspec": {
   "display_name": "base",
   "language": "python",
   "name": "python3"
  },
  "language_info": {
   "codemirror_mode": {
    "name": "ipython",
    "version": 3
   },
   "file_extension": ".py",
   "mimetype": "text/x-python",
   "name": "python",
   "nbconvert_exporter": "python",
   "pygments_lexer": "ipython3",
   "version": "3.11.5"
  }
 },
 "nbformat": 4,
 "nbformat_minor": 5
}
