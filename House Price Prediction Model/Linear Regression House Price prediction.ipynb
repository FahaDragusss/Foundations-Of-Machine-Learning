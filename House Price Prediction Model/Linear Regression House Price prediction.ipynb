{
 "cells": [
  {
   "cell_type": "code",
   "execution_count": null,
   "metadata": {},
   "outputs": [],
   "source": [
    "import pandas as pd\n",
    "import numpy as np\n",
    "from sklearn.model_selection import train_test_split\n",
    "from sklearn.preprocessing import StandardScaler\n",
    "\n",
    "# Pre-processing the Data\n",
    "\n",
    "house_df = pd.read_csv(\"house_price_dataset_handled.csv\")\n",
    "X = house_df.drop('price', axis=1)  # Features\n",
    "y = house_df['price']  # Target variable\n",
    "\n",
    "# Splitting the data for testing and training\n",
    "\n",
    "X_train_unscaled , X_test_unscaled , y_train , y_test = train_test_split(X, y, test_size = 0.2, random_state = 42)\n",
    "\n",
    "# Scaling the Features\n",
    "\n",
    "scaler = StandardScaler()\n",
    "\n",
    "X_train = scaler.fit_transform(X_train_unscaled)\n",
    "X_test = scaler.transform(X_test_unscaled)\n"
   ]
  },
  {
   "cell_type": "code",
   "execution_count": null,
   "metadata": {},
   "outputs": [],
   "source": []
  }
 ],
 "metadata": {
  "kernelspec": {
   "display_name": "base",
   "language": "python",
   "name": "python3"
  },
  "language_info": {
   "codemirror_mode": {
    "name": "ipython",
    "version": 3
   },
   "file_extension": ".py",
   "mimetype": "text/x-python",
   "name": "python",
   "nbconvert_exporter": "python",
   "pygments_lexer": "ipython3",
   "version": "3.11.5"
  }
 },
 "nbformat": 4,
 "nbformat_minor": 2
}
